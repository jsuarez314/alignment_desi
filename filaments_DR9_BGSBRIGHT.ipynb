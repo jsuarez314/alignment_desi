{
 "cells": [
  {
   "cell_type": "code",
   "execution_count": 1,
   "id": "bf4f797e-b121-4996-93cf-36fcc96dedc9",
   "metadata": {},
   "outputs": [],
   "source": [
    "import numpy as np\n",
    "import pandas as pd\n",
    "import pylab as pl\n",
    "import os\n",
    "import time\n",
    "from itertools import chain"
   ]
  },
  {
   "cell_type": "code",
   "execution_count": 2,
   "id": "5331bf07-4ee0-4cfe-bd73-afc1787bdd92",
   "metadata": {},
   "outputs": [],
   "source": [
    "file = 'DR9_BGSBRIGTH_radec'"
   ]
  },
  {
   "cell_type": "code",
   "execution_count": 3,
   "id": "d78a8cec-914d-4401-b717-a6caec1a6d22",
   "metadata": {},
   "outputs": [],
   "source": [
    "data = np.loadtxt(f\"./data/{file}.txt\", skiprows=1)\n",
    "N_real = len(data)\n",
    "idx = data[:,0]\n",
    "ra = data[:,1]\n",
    "dec = data[:,2]"
   ]
  },
  {
   "cell_type": "code",
   "execution_count": 4,
   "id": "166758c2-4d94-4a8a-a39a-7d407abcd481",
   "metadata": {},
   "outputs": [
    {
     "data": {
      "text/plain": [
       "14657737"
      ]
     },
     "execution_count": 4,
     "metadata": {},
     "output_type": "execute_result"
    }
   ],
   "source": [
    "len(ra)"
   ]
  },
  {
   "cell_type": "code",
   "execution_count": 5,
   "id": "7ee2c876-efd1-4a3d-96c5-9a399b5108a8",
   "metadata": {},
   "outputs": [
    {
     "data": {
      "text/plain": [
       "<matplotlib.collections.PathCollection at 0x7f9963fa5820>"
      ]
     },
     "execution_count": 5,
     "metadata": {},
     "output_type": "execute_result"
    },
    {
     "data": {
      "image/png": "[encoded data removed]",
      "text/plain": [
       "<Figure size 432x288 with 1 Axes>"
      ]
     },
     "metadata": {
      "needs_background": "light"
     },
     "output_type": "display_data"
    }
   ],
   "source": [
    "pl.scatter(ra,dec, s=0.2)"
   ]
  },
  {
   "cell_type": "code",
   "execution_count": 45,
   "id": "a65d3068-d11e-4dfe-a8e2-9a193ec43aea",
   "metadata": {},
   "outputs": [],
   "source": [
    "f = open(f'./data/{file}.txt.NDnet_s0.5.up.NDskl.S001.a.segs')\n",
    "doc2 = f.readlines()"
   ]
  },
  {
   "cell_type": "code",
   "execution_count": 1,
   "id": "b908e335-13f8-47a3-93c5-1144f9f580c5",
   "metadata": {},
   "outputs": [
    {
     "ename": "NameError",
     "evalue": "name 'doc2' is not defined",
     "output_type": "error",
     "traceback": [
      "\u001b[0;31m---------------------------------------------------------------------------\u001b[0m",
      "\u001b[0;31mNameError\u001b[0m                                 Traceback (most recent call last)",
      "Input \u001b[0;32mIn [1]\u001b[0m, in \u001b[0;36m<module>\u001b[0;34m\u001b[0m\n\u001b[0;32m----> 1\u001b[0m N_segs \u001b[38;5;241m=\u001b[39m \u001b[38;5;28mint\u001b[39m(\u001b[43mdoc2\u001b[49m[\u001b[38;5;241m2\u001b[39m]\u001b[38;5;241m.\u001b[39mreplace(\u001b[38;5;124m'\u001b[39m\u001b[38;5;130;01m\\n\u001b[39;00m\u001b[38;5;124m'\u001b[39m,\u001b[38;5;124m'\u001b[39m\u001b[38;5;124m'\u001b[39m)\u001b[38;5;241m.\u001b[39msplit(\u001b[38;5;124m'\u001b[39m\u001b[38;5;124m \u001b[39m\u001b[38;5;124m'\u001b[39m)[\u001b[38;5;241m1\u001b[39m])\n\u001b[1;32m      2\u001b[0m N_segs\n",
      "\u001b[0;31mNameError\u001b[0m: name 'doc2' is not defined"
     ]
    }
   ],
   "source": [
    "N_segs = int(doc2[2].replace('\\n','').split(' ')[1])\n",
    "N_segs"
   ]
  },
  {
   "cell_type": "code",
   "execution_count": null,
   "id": "d0dae0d8-d95c-48dd-9434-fcec64a3ae44",
   "metadata": {},
   "outputs": [],
   "source": [
    "SEGMENTS_SRT = np.array(doc2)[3:]"
   ]
  },
  {
   "cell_type": "code",
   "execution_count": null,
   "id": "9ce3eaf2-1ac0-4a2d-a548-6b692bfa62ca",
   "metadata": {},
   "outputs": [],
   "source": [
    "SEGMENTS_SRT"
   ]
  },
  {
   "cell_type": "code",
   "execution_count": 2,
   "id": "4829994a-32ce-4325-bda4-baacaeeb3ee6",
   "metadata": {},
   "outputs": [
    {
     "ename": "NameError",
     "evalue": "name 'np' is not defined",
     "output_type": "error",
     "traceback": [
      "\u001b[0;31m---------------------------------------------------------------------------\u001b[0m",
      "\u001b[0;31mNameError\u001b[0m                                 Traceback (most recent call last)",
      "Input \u001b[0;32mIn [2]\u001b[0m, in \u001b[0;36m<module>\u001b[0;34m\u001b[0m\n\u001b[0;32m----> 1\u001b[0m SEGMENTS \u001b[38;5;241m=\u001b[39m \u001b[43mnp\u001b[49m\u001b[38;5;241m.\u001b[39marray([np\u001b[38;5;241m.\u001b[39marray(f\u001b[38;5;241m.\u001b[39msplit(\u001b[38;5;124m'\u001b[39m\u001b[38;5;124m \u001b[39m\u001b[38;5;124m'\u001b[39m), dtype\u001b[38;5;241m=\u001b[39m\u001b[38;5;28mfloat\u001b[39m) \u001b[38;5;28;01mfor\u001b[39;00m f \u001b[38;5;129;01min\u001b[39;00m SEGMENTS_SRT])\n",
      "\u001b[0;31mNameError\u001b[0m: name 'np' is not defined"
     ]
    }
   ],
   "source": [
    "SEGMENTS = np.array([np.array(f.split(' '), dtype=float) for f in SEGMENTS_SRT])"
   ]
  },
  {
   "cell_type": "code",
   "execution_count": 3,
   "id": "b1dd13e7-ed3b-496b-a1aa-a9d925c14e04",
   "metadata": {},
   "outputs": [
    {
     "ename": "NameError",
     "evalue": "name 'SEGMENTS' is not defined",
     "output_type": "error",
     "traceback": [
      "\u001b[0;31m---------------------------------------------------------------------------\u001b[0m",
      "\u001b[0;31mNameError\u001b[0m                                 Traceback (most recent call last)",
      "Input \u001b[0;32mIn [3]\u001b[0m, in \u001b[0;36m<module>\u001b[0;34m\u001b[0m\n\u001b[0;32m----> 1\u001b[0m \u001b[43mSEGMENTS\u001b[49m\n",
      "\u001b[0;31mNameError\u001b[0m: name 'SEGMENTS' is not defined"
     ]
    }
   ],
   "source": [
    "SEGMENTS"
   ]
  },
  {
   "cell_type": "code",
   "execution_count": 4,
   "id": "616c46dc-6d6d-4c09-b9f0-5b8feec9afd9",
   "metadata": {},
   "outputs": [
    {
     "ename": "NameError",
     "evalue": "name 'np' is not defined",
     "output_type": "error",
     "traceback": [
      "\u001b[0;31m---------------------------------------------------------------------------\u001b[0m",
      "\u001b[0;31mNameError\u001b[0m                                 Traceback (most recent call last)",
      "Input \u001b[0;32mIn [4]\u001b[0m, in \u001b[0;36m<module>\u001b[0;34m\u001b[0m\n\u001b[0;32m----> 1\u001b[0m \u001b[43mnp\u001b[49m\u001b[38;5;241m.\u001b[39munique(SEGMENTS[:,\u001b[38;5;241m5\u001b[39m])\n",
      "\u001b[0;31mNameError\u001b[0m: name 'np' is not defined"
     ]
    }
   ],
   "source": [
    "np.unique(SEGMENTS[:,5])"
   ]
  },
  {
   "cell_type": "code",
   "execution_count": 5,
   "id": "588120b7-16f9-4a36-8fc4-2e2f6046ad06",
   "metadata": {},
   "outputs": [
    {
     "ename": "NameError",
     "evalue": "name 'pl' is not defined",
     "output_type": "error",
     "traceback": [
      "\u001b[0;31m---------------------------------------------------------------------------\u001b[0m",
      "\u001b[0;31mNameError\u001b[0m                                 Traceback (most recent call last)",
      "Input \u001b[0;32mIn [5]\u001b[0m, in \u001b[0;36m<module>\u001b[0;34m\u001b[0m\n\u001b[0;32m----> 1\u001b[0m fig \u001b[38;5;241m=\u001b[39m \u001b[43mpl\u001b[49m\u001b[38;5;241m.\u001b[39mfigure(figsize\u001b[38;5;241m=\u001b[39m(\u001b[38;5;241m10\u001b[39m,\u001b[38;5;241m8\u001b[39m), rasterized\u001b[38;5;241m=\u001b[39m\u001b[38;5;28;01mTrue\u001b[39;00m)\n\u001b[1;32m      2\u001b[0m plot \u001b[38;5;241m=\u001b[39m pl\u001b[38;5;241m.\u001b[39mscatter(SEGMENTS[:,\u001b[38;5;241m0\u001b[39m], SEGMENTS[:,\u001b[38;5;241m1\u001b[39m], c\u001b[38;5;241m=\u001b[39mnp\u001b[38;5;241m.\u001b[39mlog(SEGMENTS[:,\u001b[38;5;241m4\u001b[39m]), s\u001b[38;5;241m=\u001b[39m\u001b[38;5;241m0.2\u001b[39m)\n\u001b[1;32m      3\u001b[0m fig\u001b[38;5;241m.\u001b[39mcolorbar(plot)\n",
      "\u001b[0;31mNameError\u001b[0m: name 'pl' is not defined"
     ]
    }
   ],
   "source": [
    "fig = pl.figure(figsize=(10,8), rasterized=True)\n",
    "plot = pl.scatter(SEGMENTS[:,0], SEGMENTS[:,1], c=np.log(SEGMENTS[:,4]), s=0.2)\n",
    "fig.colorbar(plot)\n",
    "pl.show()"
   ]
  },
  {
   "cell_type": "code",
   "execution_count": null,
   "id": "ba30b395-bb45-4fc2-bcf9-9d0f644c20cb",
   "metadata": {},
   "outputs": [],
   "source": []
  },
  {
   "cell_type": "code",
   "execution_count": null,
   "id": "5668b928-44a4-4e12-a3c5-b6bf25435974",
   "metadata": {},
   "outputs": [],
   "source": []
  }
 ],
 "metadata": {
  "kernelspec": {
   "display_name": "outdec",
   "language": "python",
   "name": "outdec"
  },
  "language_info": {
   "codemirror_mode": {
    "name": "ipython",
    "version": 3
   },
   "file_extension": ".py",
   "mimetype": "text/x-python",
   "name": "python",
   "nbconvert_exporter": "python",
   "pygments_lexer": "ipython3",
   "version": "3.9.0"
  }
 },
 "nbformat": 4,
 "nbformat_minor": 5
}
