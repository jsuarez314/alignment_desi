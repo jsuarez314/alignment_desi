{
 "cells": [
  {
   "cell_type": "code",
   "execution_count": 11,
   "id": "f86dd818-b314-4f40-8af6-ef88d61d19f5",
   "metadata": {},
   "outputs": [],
   "source": [
    "import numpy  as np\n",
    "import pandas as pd\n",
    "import pylab as pl"
   ]
  },
  {
   "cell_type": "code",
   "execution_count": 118,
   "id": "3c624755-c3f4-475a-94fb-594bec7d78d5",
   "metadata": {},
   "outputs": [],
   "source": [
    "# Angle between two vectors\n",
    "def dot_product_angle(v1,v2):\n",
    "    vector_dot_product = np.einsum('ij,ij...->i',v1,v2)\n",
    "    print(vector_dot_product)\n",
    "    arccos = np.arccos(vector_dot_product / (np.linalg.norm(v1, axis=1) * np.linalg.norm(v2, axis=1)))\n",
    "    print(arccos)\n",
    "    angle = np.degrees(arccos)\n",
    "    return angle"
   ]
  },
  {
   "cell_type": "code",
   "execution_count": 132,
   "id": "c1938bf3-4114-4757-9fb4-420a078ccd34",
   "metadata": {},
   "outputs": [
    {
     "name": "stdout",
     "output_type": "stream",
     "text": [
      "[1 2 1 1]\n",
      "[0.95531662 0.61547971 1.04719755 1.04719755]\n"
     ]
    },
    {
     "data": {
      "text/plain": [
       "array([54.73561032, 35.26438968, 60.        , 60.        ])"
      ]
     },
     "execution_count": 132,
     "metadata": {},
     "output_type": "execute_result"
    }
   ],
   "source": [
    "v1 = [[1,1,1],[1,1,1],[0,1,1],[0,1,1]]\n",
    "v2 = [[1,0,0],[1,0,1],[1,0,1],[1,0,1]]\n",
    "\n",
    "dot_product_angle(v1,v2)"
   ]
  },
  {
   "cell_type": "code",
   "execution_count": null,
   "id": "6b8a9555-2e26-450f-bc91-d3e8ae3bd0a1",
   "metadata": {},
   "outputs": [],
   "source": []
  },
  {
   "cell_type": "code",
   "execution_count": null,
   "id": "9cfb519d-1a04-4d53-84de-ecc4f5a08809",
   "metadata": {},
   "outputs": [],
   "source": []
  },
  {
   "cell_type": "code",
   "execution_count": 3,
   "id": "f57be16f-c5af-4043-abbd-acdb6fd41531",
   "metadata": {},
   "outputs": [],
   "source": [
    "# import some helpful python packages \n",
    "import os\n",
    "import numpy as np\n",
    "\n",
    "from astropy.io import fits\n",
    "from astropy.table import Table\n",
    "from astropy.convolution import convolve, Gaussian1DKernel\n",
    "\n",
    "import matplotlib \n",
    "import matplotlib.pyplot as plt\n",
    "\n",
    "# import DESI related modules - \n",
    "from desimodel.footprint import radec2pix      # For getting healpix values\n",
    "import desispec.io                             # Input/Output functions related to DESI spectra\n",
    "from desispec import coaddition                # Functions related to coadding the spectra\n",
    "\n",
    "# DESI targeting masks - \n",
    "from desitarget.sv1 import sv1_targetmask    # For SV1\n",
    "from desitarget.sv2 import sv2_targetmask    # For SV2\n",
    "from desitarget.sv3 import sv3_targetmask    # For SV3"
   ]
  },
  {
   "cell_type": "code",
   "execution_count": 4,
   "id": "0a6114c4-1bfe-4af4-8e62-3898dee1d167",
   "metadata": {},
   "outputs": [
    {
     "name": "stdout",
     "output_type": "stream",
     "text": [
      "/global/cfs/cdirs/desi/spectro/redux/fuji\n"
     ]
    }
   ],
   "source": [
    "specprod = 'fuji'    # Internal name for the EDR\n",
    "specprod_dir = desispec.io.specprod_root(specprod)\n",
    "\n",
    "print(specprod_dir)"
   ]
  },
  {
   "cell_type": "code",
   "execution_count": 5,
   "id": "c80b47e9-1490-46fd-9675-8397acbf37db",
   "metadata": {},
   "outputs": [],
   "source": [
    "zpix_cat = Table.read(f'{specprod_dir}/zcatalog/zall-pix-{specprod}.fits', hdu=\"ZCATALOG\")"
   ]
  },
  {
   "cell_type": "code",
   "execution_count": 20,
   "id": "79b22180-07ef-43fd-a3b6-91c278c5c488",
   "metadata": {},
   "outputs": [
    {
     "data": {
      "text/html": [
       "&lt;Column name=&apos;Z&apos; dtype=&apos;float64&apos; length=1&gt;\n",
       "<table>\n",
       "<tr><td>1.0791710884059862</td></tr>\n",
       "</table>"
      ],
      "text/plain": [
       "<Column name='Z' dtype='float64' length=1>\n",
       "1.0791710884059862"
      ]
     },
     "execution_count": 20,
     "metadata": {},
     "output_type": "execute_result"
    }
   ],
   "source": [
    "# Selecting a random object which has multiple spectra in DESI\n",
    "targets = np.array(zpix_cat['TARGETID'], dtype=int)\n",
    "Z_des = zpix_cat['Z']\n",
    "\n",
    "## Selecting random TARGETID from these targets\n",
    "Z_des[targets == 616089230757593610]"
   ]
  },
  {
   "cell_type": "code",
   "execution_count": 19,
   "id": "0669d7c2-4464-43b9-a649-55055ae57b6d",
   "metadata": {},
   "outputs": [
    {
     "data": {
      "text/plain": [
       "2847435"
      ]
     },
     "execution_count": 19,
     "metadata": {},
     "output_type": "execute_result"
    }
   ],
   "source": [
    "len(targets)"
   ]
  },
  {
   "cell_type": "code",
   "execution_count": null,
   "id": "622878f9-20bd-4c48-bb0d-873779203142",
   "metadata": {},
   "outputs": [],
   "source": []
  }
 ],
 "metadata": {
  "kernelspec": {
   "display_name": "DESI 22.2",
   "language": "python",
   "name": "desi-22.2"
  },
  "language_info": {
   "codemirror_mode": {
    "name": "ipython",
    "version": 3
   },
   "file_extension": ".py",
   "mimetype": "text/x-python",
   "name": "python",
   "nbconvert_exporter": "python",
   "pygments_lexer": "ipython3",
   "version": "3.9.7"
  }
 },
 "nbformat": 4,
 "nbformat_minor": 5
}
