{
 "cells": [
  {
   "cell_type": "code",
   "execution_count": 11,
   "id": "f86dd818-b314-4f40-8af6-ef88d61d19f5",
   "metadata": {},
   "outputs": [],
   "source": [
    "import numpy  as np\n",
    "import pandas as pd\n",
    "import pylab as pl"
   ]
  },
  {
   "cell_type": "code",
   "execution_count": 118,
   "id": "3c624755-c3f4-475a-94fb-594bec7d78d5",
   "metadata": {},
   "outputs": [],
   "source": [
    "# Angle between two vectors\n",
    "def dot_product_angle(v1,v2):\n",
    "    vector_dot_product = np.einsum('ij,ij...->i',v1,v2)\n",
    "    print(vector_dot_product)\n",
    "    arccos = np.arccos(vector_dot_product / (np.linalg.norm(v1, axis=1) * np.linalg.norm(v2, axis=1)))\n",
    "    print(arccos)\n",
    "    angle = np.degrees(arccos)\n",
    "    return angle"
   ]
  },
  {
   "cell_type": "code",
   "execution_count": 132,
   "id": "c1938bf3-4114-4757-9fb4-420a078ccd34",
   "metadata": {},
   "outputs": [
    {
     "name": "stdout",
     "output_type": "stream",
     "text": [
      "[1 2 1 1]\n",
      "[0.95531662 0.61547971 1.04719755 1.04719755]\n"
     ]
    },
    {
     "data": {
      "text/plain": [
       "array([54.73561032, 35.26438968, 60.        , 60.        ])"
      ]
     },
     "execution_count": 132,
     "metadata": {},
     "output_type": "execute_result"
    }
   ],
   "source": [
    "v1 = [[1,1,1],[1,1,1],[0,1,1],[0,1,1]]\n",
    "v2 = [[1,0,0],[1,0,1],[1,0,1],[1,0,1]]\n",
    "\n",
    "dot_product_angle(v1,v2)"
   ]
  },
  {
   "cell_type": "code",
   "execution_count": null,
   "id": "6b8a9555-2e26-450f-bc91-d3e8ae3bd0a1",
   "metadata": {},
   "outputs": [],
   "source": []
  }
 ],
 "metadata": {
  "kernelspec": {
   "display_name": "DESI 22.2",
   "language": "python",
   "name": "desi-22.2"
  },
  "language_info": {
   "codemirror_mode": {
    "name": "ipython",
    "version": 3
   },
   "file_extension": ".py",
   "mimetype": "text/x-python",
   "name": "python",
   "nbconvert_exporter": "python",
   "pygments_lexer": "ipython3",
   "version": "3.9.7"
  }
 },
 "nbformat": 4,
 "nbformat_minor": 5
}
