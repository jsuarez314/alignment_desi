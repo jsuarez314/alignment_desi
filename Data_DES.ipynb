{
 "cells": [
  {
   "cell_type": "code",
   "execution_count": 1,
   "id": "c6e9b596-306d-4d1e-9a06-055ab706c9ab",
   "metadata": {},
   "outputs": [],
   "source": [
    "import os\n",
    "import numpy as np\n",
    "from astropy.table import Table\n",
    "from astropy.io import fits\n",
    "import pylab as pl\n",
    "from glob import glob\n",
    "from desitarget.targetmask import desi_mask, bgs_mask, mws_mask"
   ]
  },
  {
   "cell_type": "code",
   "execution_count": 2,
   "id": "97d0e128-bf54-411d-86cf-995aab9fd94e",
   "metadata": {},
   "outputs": [],
   "source": [
    "flavour = 'bright'\n",
    "# flavour = 'dark'\n",
    "\n",
    "if flavour == 'bright':\n",
    "    path = '/global/cfs/cdirs/desi/target/catalogs/dr9/1.0.0/targets/main/resolve/bright'\n",
    "elif flavour == 'dark':\n",
    "    path = '/global/cfs/cdirs/desi/target/catalogs/dr9/1.0.0/targets/main/resolve/dark'"
   ]
  },
  {
   "cell_type": "code",
   "execution_count": 3,
   "id": "8084c957-45bf-4cb1-8d7d-a56fcfab962f",
   "metadata": {},
   "outputs": [
    {
     "name": "stdout",
     "output_type": "stream",
     "text": [
      "/global/cfs/cdirs/desi/target/catalogs/dr9/1.0.0/targets/main/resolve/bright/targets-bright-hp-0.fits\n"
     ]
    }
   ],
   "source": [
    "files = np.sort(glob(f'{path}/*hp*'))\n",
    "print(files[0])"
   ]
  },
  {
   "cell_type": "code",
   "execution_count": 4,
   "id": "c4e40d19-49d6-4937-9502-894c230a69e7",
   "metadata": {},
   "outputs": [
    {
     "data": {
      "text/plain": [
       "466"
      ]
     },
     "execution_count": 4,
     "metadata": {},
     "output_type": "execute_result"
    }
   ],
   "source": [
    "len(files)"
   ]
  },
  {
   "cell_type": "code",
   "execution_count": 5,
   "id": "8b525e74-d0ea-4912-b44d-d57bdaf09413",
   "metadata": {},
   "outputs": [],
   "source": [
    "file = files[0]\n",
    "hdu = fits.open(file)"
   ]
  },
  {
   "cell_type": "code",
   "execution_count": 6,
   "id": "d7a102c2-f0a4-4478-b328-ac0bcddf63ca",
   "metadata": {},
   "outputs": [
    {
     "data": {
      "text/plain": [
       "SIMPLE  =                    T / file does conform to FITS standard             \n",
       "BITPIX  =                   16 / number of bits per data pixel                  \n",
       "NAXIS   =                    0 / number of data axes                            \n",
       "EXTEND  =                    T / FITS dataset may contain extensions            \n",
       "COMMENT   FITS (Flexible Image Transport System) format is defined in 'Astronomy\n",
       "COMMENT   and Astrophysics', volume 376, page 359; bibcode: 2001A&A...376..359H "
      ]
     },
     "execution_count": 6,
     "metadata": {},
     "output_type": "execute_result"
    }
   ],
   "source": [
    "hdu[0].header"
   ]
  },
  {
   "cell_type": "code",
   "execution_count": 7,
   "id": "180f72a6-0ddb-495b-8f3e-0ece2c131d0a",
   "metadata": {},
   "outputs": [
    {
     "data": {
      "text/plain": [
       "('RELEASE',\n",
       " 'BRICKID',\n",
       " 'BRICKNAME',\n",
       " 'BRICK_OBJID',\n",
       " 'MORPHTYPE',\n",
       " 'RA',\n",
       " 'RA_IVAR',\n",
       " 'DEC',\n",
       " 'DEC_IVAR',\n",
       " 'DCHISQ',\n",
       " 'EBV',\n",
       " 'FLUX_G',\n",
       " 'FLUX_R',\n",
       " 'FLUX_Z',\n",
       " 'FLUX_IVAR_G',\n",
       " 'FLUX_IVAR_R',\n",
       " 'FLUX_IVAR_Z',\n",
       " 'MW_TRANSMISSION_G',\n",
       " 'MW_TRANSMISSION_R',\n",
       " 'MW_TRANSMISSION_Z',\n",
       " 'FRACFLUX_G',\n",
       " 'FRACFLUX_R',\n",
       " 'FRACFLUX_Z',\n",
       " 'FRACMASKED_G',\n",
       " 'FRACMASKED_R',\n",
       " 'FRACMASKED_Z',\n",
       " 'FRACIN_G',\n",
       " 'FRACIN_R',\n",
       " 'FRACIN_Z',\n",
       " 'NOBS_G',\n",
       " 'NOBS_R',\n",
       " 'NOBS_Z',\n",
       " 'PSFDEPTH_G',\n",
       " 'PSFDEPTH_R',\n",
       " 'PSFDEPTH_Z',\n",
       " 'GALDEPTH_G',\n",
       " 'GALDEPTH_R',\n",
       " 'GALDEPTH_Z',\n",
       " 'FLUX_W1',\n",
       " 'FLUX_W2',\n",
       " 'FLUX_W3',\n",
       " 'FLUX_W4',\n",
       " 'FLUX_IVAR_W1',\n",
       " 'FLUX_IVAR_W2',\n",
       " 'FLUX_IVAR_W3',\n",
       " 'FLUX_IVAR_W4',\n",
       " 'MW_TRANSMISSION_W1',\n",
       " 'MW_TRANSMISSION_W2',\n",
       " 'MW_TRANSMISSION_W3',\n",
       " 'MW_TRANSMISSION_W4',\n",
       " 'ALLMASK_G',\n",
       " 'ALLMASK_R',\n",
       " 'ALLMASK_Z',\n",
       " 'FIBERFLUX_G',\n",
       " 'FIBERFLUX_R',\n",
       " 'FIBERFLUX_Z',\n",
       " 'FIBERTOTFLUX_G',\n",
       " 'FIBERTOTFLUX_R',\n",
       " 'FIBERTOTFLUX_Z',\n",
       " 'REF_EPOCH',\n",
       " 'WISEMASK_W1',\n",
       " 'WISEMASK_W2',\n",
       " 'MASKBITS',\n",
       " 'LC_FLUX_W1',\n",
       " 'LC_FLUX_W2',\n",
       " 'LC_FLUX_IVAR_W1',\n",
       " 'LC_FLUX_IVAR_W2',\n",
       " 'LC_NOBS_W1',\n",
       " 'LC_NOBS_W2',\n",
       " 'LC_MJD_W1',\n",
       " 'LC_MJD_W2',\n",
       " 'SHAPE_R',\n",
       " 'SHAPE_E1',\n",
       " 'SHAPE_E2',\n",
       " 'SHAPE_R_IVAR',\n",
       " 'SHAPE_E1_IVAR',\n",
       " 'SHAPE_E2_IVAR',\n",
       " 'SERSIC',\n",
       " 'SERSIC_IVAR',\n",
       " 'REF_ID',\n",
       " 'REF_CAT',\n",
       " 'GAIA_PHOT_G_MEAN_MAG',\n",
       " 'GAIA_PHOT_G_MEAN_FLUX_OVER_ERROR',\n",
       " 'GAIA_PHOT_BP_MEAN_MAG',\n",
       " 'GAIA_PHOT_BP_MEAN_FLUX_OVER_ERROR',\n",
       " 'GAIA_PHOT_RP_MEAN_MAG',\n",
       " 'GAIA_PHOT_RP_MEAN_FLUX_OVER_ERROR',\n",
       " 'GAIA_PHOT_BP_RP_EXCESS_FACTOR',\n",
       " 'GAIA_ASTROMETRIC_EXCESS_NOISE',\n",
       " 'GAIA_DUPLICATED_SOURCE',\n",
       " 'GAIA_ASTROMETRIC_SIGMA5D_MAX',\n",
       " 'GAIA_ASTROMETRIC_PARAMS_SOLVED',\n",
       " 'PARALLAX',\n",
       " 'PARALLAX_IVAR',\n",
       " 'PMRA',\n",
       " 'PMRA_IVAR',\n",
       " 'PMDEC',\n",
       " 'PMDEC_IVAR',\n",
       " 'PHOTSYS',\n",
       " 'TARGETID',\n",
       " 'DESI_TARGET',\n",
       " 'BGS_TARGET',\n",
       " 'MWS_TARGET',\n",
       " 'SUBPRIORITY',\n",
       " 'OBSCONDITIONS',\n",
       " 'PRIORITY_INIT',\n",
       " 'NUMOBS_INIT',\n",
       " 'SCND_TARGET',\n",
       " 'HPXPIXEL')"
      ]
     },
     "execution_count": 7,
     "metadata": {},
     "output_type": "execute_result"
    }
   ],
   "source": [
    "hdu[1].data.dtype.names"
   ]
  },
  {
   "cell_type": "code",
   "execution_count": 13,
   "id": "2bd98bfd-bdf8-4585-a259-ba9bd7b94632",
   "metadata": {},
   "outputs": [
    {
     "data": {
      "text/plain": [
       "array([39627785479654746, 39627785479655252, 39627785479655281, ...,\n",
       "       39636714305624327, 39636714305624335, 39636714305624406])"
      ]
     },
     "execution_count": 13,
     "metadata": {},
     "output_type": "execute_result"
    }
   ],
   "source": [
    "np.unique(hdu[1].data['TARGETID'])"
   ]
  },
  {
   "cell_type": "code",
   "execution_count": 9,
   "id": "2320ea91-b71a-4d43-814e-9a943d557464",
   "metadata": {},
   "outputs": [
    {
     "data": {
      "image/png": "[encoded data removed]",
      "text/plain": [
       "<Figure size 432x288 with 1 Axes>"
      ]
     },
     "metadata": {
      "needs_background": "light"
     },
     "output_type": "display_data"
    }
   ],
   "source": [
    "_ = pl.hist(hdu[1].data['GAIA_PHOT_G_MEAN_MAG'])"
   ]
  },
  {
   "cell_type": "code",
   "execution_count": 10,
   "id": "6e820985-41b4-4ec2-bff2-3d1b066e6cd5",
   "metadata": {},
   "outputs": [],
   "source": [
    "# Reading the R value: Half-light radius of galaxy model\n",
    "# Reading the E1 value: Ellipticity component 1 of galaxy model\n",
    "# Reading the E2 value: Ellipticity component 2 of galaxy model\n",
    "# https://www.legacysurvey.org/dr9/catalogs/#ellipticities\n",
    "R = []\n",
    "E1 = []\n",
    "E2 = []\n",
    "RA = []\n",
    "DEC = []\n",
    "GMAG = []\n",
    "TARGETID = []\n",
    "\n",
    "for file in files:\n",
    "    hdu = fits.open(file)\n",
    "    \n",
    "    if flavour == 'bright':\n",
    "        is_target = (hdu[1].data['BGS_TARGET'] & bgs_mask['BGS_BRIGHT'])!=0\n",
    "    else:\n",
    "        is_target = (hdu[1].data['DESI_TARGET'] & desi_mask['LRG'])!=0\n",
    "    \n",
    "    R.append( hdu[1].data['SHAPE_R'][is_target] )\n",
    "\n",
    "    e1 = hdu[1].data['SHAPE_E1'][is_target]\n",
    "    E1.append( e1 )\n",
    "    \n",
    "    e2 = hdu[1].data['SHAPE_E2'][is_target]\n",
    "    E2.append( e2 )\n",
    "    \n",
    "    RA.append( hdu[1].data['RA'][is_target] )\n",
    "    \n",
    "    DEC.append( hdu[1].data['DEC'][is_target] )\n",
    "    \n",
    "    GMAG.append( hdu[1].data['GAIA_PHOT_G_MEAN_MAG'][is_target] )\n",
    "    \n",
    "    TARGETID.append( hdu[1].data['TARGETID'][is_target] )"
   ]
  },
  {
   "cell_type": "code",
   "execution_count": 11,
   "id": "ccd359e0-2598-4c0f-9581-4537be1a0215",
   "metadata": {},
   "outputs": [],
   "source": [
    "R_all = np.concatenate(R).ravel()\n",
    "GMAG_all = np.concatenate(GMAG).ravel()\n",
    "RA_all = np.concatenate(RA).ravel()\n",
    "DEC_all = np.concatenate(DEC).ravel()\n",
    "E1_all = np.concatenate(E1).ravel()\n",
    "E2_all = np.concatenate(E2).ravel()\n",
    "E_all =  np.sqrt(E1_all**2 + E2_all**2)\n",
    "BA_all = (1 - np.abs(E_all))/(1 + np.abs(E_all))\n",
    "PHI_all = 0.5*np.arctan2(E2_all,E1_all)\n",
    "TARGETID_all = np.concatenate(TARGETID, dtype=int).ravel()"
   ]
  },
  {
   "cell_type": "code",
   "execution_count": 12,
   "id": "1b70a525-2fca-46cd-8668-0b8bfec34550",
   "metadata": {},
   "outputs": [],
   "source": [
    "# len(R_all)"
   ]
  },
  {
   "cell_type": "code",
   "execution_count": 13,
   "id": "5a9d66c6-ae2f-4929-bf6b-761b79567a5a",
   "metadata": {},
   "outputs": [],
   "source": [
    "# _ = pl.hist(R_all)"
   ]
  },
  {
   "cell_type": "code",
   "execution_count": 14,
   "id": "9643ff78-f3c5-4bd9-849f-c15804f8e0a5",
   "metadata": {},
   "outputs": [],
   "source": [
    "# _ = pl.hist(E1_all)"
   ]
  },
  {
   "cell_type": "code",
   "execution_count": 15,
   "id": "070cda33-9e4a-436d-a194-18dd65013dfb",
   "metadata": {},
   "outputs": [],
   "source": [
    "# _ = pl.hist(E2_all)"
   ]
  },
  {
   "cell_type": "code",
   "execution_count": 16,
   "id": "ae473b59-1c35-4b66-a792-c2ed15a16a45",
   "metadata": {},
   "outputs": [],
   "source": [
    "# _ = pl.hist(E_all)"
   ]
  },
  {
   "cell_type": "code",
   "execution_count": 17,
   "id": "ece817f3-7bab-4c5c-9294-de395185c148",
   "metadata": {},
   "outputs": [],
   "source": [
    "# _ = pl.hist(BA_all)"
   ]
  },
  {
   "cell_type": "code",
   "execution_count": 18,
   "id": "c9258c12-43fe-4d39-9855-c8185fcecc3f",
   "metadata": {},
   "outputs": [],
   "source": [
    "# _ = pl.hist(PHI_all)"
   ]
  },
  {
   "cell_type": "code",
   "execution_count": 19,
   "id": "adf0ffdc-532a-4fe4-b8f1-bf4615759128",
   "metadata": {},
   "outputs": [],
   "source": [
    "# max(E1_all), min(E1_all)"
   ]
  },
  {
   "cell_type": "markdown",
   "id": "9dec024f-f564-49a8-8641-ceff1cc54d7a",
   "metadata": {},
   "source": [
    "## Removing E1==0 and E2==0"
   ]
  },
  {
   "cell_type": "code",
   "execution_count": 20,
   "id": "a87e6d99-60f6-475c-8929-6cf549daa180",
   "metadata": {},
   "outputs": [],
   "source": [
    "# Remove elements with E1==0\n",
    "E1_all_nonzeros = E1_all[(E1_all != 0) & (E2_all != 0) & (GMAG_all != 0)]\n",
    "E2_all_nonzeros = E2_all[(E1_all != 0) & (E2_all != 0) & (GMAG_all != 0)]\n",
    "GMAG_all_nonzeros = GMAG_all[(E1_all != 0) & (E2_all != 0) & (GMAG_all != 0)]\n",
    "R_all_nonzeros = R_all[(E1_all != 0) & (E2_all != 0) & (GMAG_all != 0)]\n",
    "RA_all_nonzeros = RA_all[(E1_all != 0) & (E2_all != 0) & (GMAG_all != 0)]\n",
    "DEC_all_nonzeros = DEC_all[(E1_all != 0) & (E2_all != 0) & (GMAG_all != 0)]\n",
    "TARGETID_all_nonzeros = TARGETID_all[(E1_all != 0) & (E2_all != 0) & (GMAG_all != 0)]\n",
    "\n",
    "E_all_nonzeros = np.sqrt(E1_all_nonzeros**2 + E2_all_nonzeros**2)\n",
    "BA_all_nonzeros = ((1 - np.abs(E_all_nonzeros))/(1 + np.abs(E_all_nonzeros)))\n",
    "PHI_all_nonzeros = (0.5*np.arctan2(E2_all_nonzeros, E1_all_nonzeros))"
   ]
  },
  {
   "cell_type": "code",
   "execution_count": 21,
   "id": "cd14847a-1836-490b-9b8a-67ff9d8b98e3",
   "metadata": {},
   "outputs": [
    {
     "name": "stdout",
     "output_type": "stream",
     "text": [
      "Total objects: 16938694\n",
      "Total non zero E1: 1716755\n",
      "Total selected: 10.1%\n"
     ]
    }
   ],
   "source": [
    "print(f'Total objects: {len(E1_all)}\\nTotal non zero E1: {len(E1_all_nonzeros)}\\nTotal selected: {len(E1_all_nonzeros)/len(E1_all)*100:.1f}%')"
   ]
  },
  {
   "cell_type": "code",
   "execution_count": 22,
   "id": "6a43421b-2a54-4c72-a018-ad20398eeec0",
   "metadata": {},
   "outputs": [
    {
     "data": {
      "image/png": "[encoded data removed]",
      "text/plain": [
       "<Figure size 432x288 with 1 Axes>"
      ]
     },
     "metadata": {
      "needs_background": "light"
     },
     "output_type": "display_data"
    }
   ],
   "source": [
    "_ = pl.hist(PHI_all_nonzeros*180/np.pi)"
   ]
  },
  {
   "cell_type": "code",
   "execution_count": 23,
   "id": "39c2f79b-d128-4275-b10f-13465e93e378",
   "metadata": {},
   "outputs": [
    {
     "data": {
      "image/png": "[encoded data removed]",
      "text/plain": [
       "<Figure size 432x288 with 1 Axes>"
      ]
     },
     "metadata": {
      "needs_background": "light"
     },
     "output_type": "display_data"
    }
   ],
   "source": [
    "_ = pl.hist(E1_all_nonzeros)"
   ]
  },
  {
   "cell_type": "code",
   "execution_count": 24,
   "id": "f08529c2-e4a1-419a-9ee0-c18717f4e4fe",
   "metadata": {},
   "outputs": [
    {
     "data": {
      "image/png": "[encoded data removed]",
      "text/plain": [
       "<Figure size 432x288 with 1 Axes>"
      ]
     },
     "metadata": {
      "needs_background": "light"
     },
     "output_type": "display_data"
    }
   ],
   "source": [
    "_ = pl.hist(E2_all_nonzeros)"
   ]
  },
  {
   "cell_type": "code",
   "execution_count": 25,
   "id": "6b1d4fdd-be35-4b6b-9b70-07c9f56dd286",
   "metadata": {},
   "outputs": [
    {
     "data": {
      "image/png": "[encoded data removed]",
      "text/plain": [
       "<Figure size 432x288 with 1 Axes>"
      ]
     },
     "metadata": {
      "needs_background": "light"
     },
     "output_type": "display_data"
    }
   ],
   "source": [
    "_ = pl.hist(R_all_nonzeros)"
   ]
  },
  {
   "cell_type": "code",
   "execution_count": 26,
   "id": "2eea6d36-fda4-4d88-8e64-d2345a0f1f88",
   "metadata": {},
   "outputs": [
    {
     "data": {
      "image/png": "[encoded data removed]",
      "text/plain": [
       "<Figure size 432x288 with 1 Axes>"
      ]
     },
     "metadata": {
      "needs_background": "light"
     },
     "output_type": "display_data"
    }
   ],
   "source": [
    "_ = pl.hist(BA_all_nonzeros)"
   ]
  },
  {
   "cell_type": "code",
   "execution_count": 27,
   "id": "bd93c393-5e67-44b8-b3aa-586414ccca10",
   "metadata": {},
   "outputs": [
    {
     "data": {
      "image/png": "[encoded data removed]",
      "text/plain": [
       "<Figure size 432x288 with 1 Axes>"
      ]
     },
     "metadata": {
      "needs_background": "light"
     },
     "output_type": "display_data"
    }
   ],
   "source": [
    "_ = pl.hist(GMAG_all_nonzeros)"
   ]
  },
  {
   "cell_type": "code",
   "execution_count": 28,
   "id": "48b20b13-71b2-4ee7-86a5-a58e96d72a94",
   "metadata": {},
   "outputs": [
    {
     "data": {
      "text/plain": [
       "1716755"
      ]
     },
     "execution_count": 28,
     "metadata": {},
     "output_type": "execute_result"
    }
   ],
   "source": [
    "sum(GMAG_all_nonzeros != 0)"
   ]
  },
  {
   "cell_type": "code",
   "execution_count": 29,
   "id": "9bd47144-d8b6-424a-92c7-8638feb32f17",
   "metadata": {},
   "outputs": [],
   "source": [
    "import seaborn as sns\n",
    "import pandas as pd"
   ]
  },
  {
   "cell_type": "code",
   "execution_count": 30,
   "id": "e564f4a8-43f0-4de2-99f4-eed4d9fafcc2",
   "metadata": {},
   "outputs": [],
   "source": [
    "idx = np.arange(0,len(RA_all_nonzeros))\n",
    "df = pd.DataFrame(np.c_[idx, RA_all_nonzeros, DEC_all_nonzeros, TARGETID_all_nonzeros, E1_all_nonzeros, E2_all_nonzeros, E_all_nonzeros,\n",
    "                        R_all_nonzeros, BA_all_nonzeros, PHI_all_nonzeros, GMAG_all_nonzeros],\n",
    "                  columns=['ID','RA','DEC','TARGETID','E1','E2','E','R','BA','PHI','GMAG'])\n",
    "if flavour == 'bright':\n",
    "    df.to_csv('./data/DR9_BGSBRIGHT_data.csv', index=False)\n",
    "else:\n",
    "    df.to_csv('./data/DR9_LRG_data.csv', index=False)"
   ]
  },
  {
   "cell_type": "code",
   "execution_count": 31,
   "id": "bd85fc5c-1d5b-4c8a-a949-1a9de832ddf7",
   "metadata": {},
   "outputs": [],
   "source": [
    "if flavour == 'bright':\n",
    "    np.savetxt('./data/DR9_BGSBRIGTH_radec.txt', df[['ID','RA','DEC']].values, fmt='%d %f %f', header='# id ra dec')\n",
    "else:\n",
    "    np.savetxt('./data/DR9_LRG_radec.txt', df[['ID','RA','DEC']].values, fmt='%d %f %f', header='# id ra dec')"
   ]
  },
  {
   "cell_type": "code",
   "execution_count": 32,
   "id": "440d10ef-21f1-4351-b165-82ccc3cbf029",
   "metadata": {},
   "outputs": [
    {
     "data": {
      "image/png": "[encoded data removed]",
      "text/plain": [
       "<Figure size 720x576 with 1 Axes>"
      ]
     },
     "metadata": {
      "needs_background": "light"
     },
     "output_type": "display_data"
    }
   ],
   "source": [
    "fig = pl.figure(figsize=(10,8))\n",
    "pl.scatter(df['RA'], df['DEC'], s=0.2)\n",
    "pl.show()"
   ]
  },
  {
   "cell_type": "code",
   "execution_count": 33,
   "id": "49f6a5e7-31a1-4623-b34b-22b78e8dd3b8",
   "metadata": {},
   "outputs": [],
   "source": [
    "# fig = pl.figure(figsize=(10,8))\n",
    "# pl.scatter(df['RA'], df['DEC'], s=0.2, c=GMAG_all_nonzeros)\n",
    "# pl.show()"
   ]
  },
  {
   "cell_type": "code",
   "execution_count": 34,
   "id": "26c608fc-f0a2-4ab8-9727-80d949886032",
   "metadata": {},
   "outputs": [],
   "source": [
    "# _ = pl.hist(GMAG_all_nonzeros)"
   ]
  }
 ],
 "metadata": {
  "kernelspec": {
   "display_name": "outdec",
   "language": "python",
   "name": "outdec"
  },
  "language_info": {
   "codemirror_mode": {
    "name": "ipython",
    "version": 3
   },
   "file_extension": ".py",
   "mimetype": "text/x-python",
   "name": "python",
   "nbconvert_exporter": "python",
   "pygments_lexer": "ipython3",
   "version": "3.9.0"
  }
 },
 "nbformat": 4,
 "nbformat_minor": 5
}
